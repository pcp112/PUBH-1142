{
 "cells": [
  {
   "cell_type": "markdown",
   "metadata": {},
   "source": [
    "# **Chapter 7 Quiz Questions**"
   ]
  },
  {
   "cell_type": "markdown",
   "metadata": {},
   "source": [
    "### Peter Park\n",
    "### PUBH 1142 \n",
    "_________________________________________________________"
   ]
  },
  {
   "cell_type": "markdown",
   "metadata": {},
   "source": [
    "#### *1. How do you define a list in Python?*"
   ]
  },
  {
   "cell_type": "markdown",
   "metadata": {},
   "source": [
    "To define a list in Python, you use the square brackets:[]."
   ]
  },
  {
   "cell_type": "markdown",
   "metadata": {},
   "source": [
    "#### *2. How do you access the third element of a Python list named my_list?*\n",
    "\n"
   ]
  },
  {
   "cell_type": "markdown",
   "metadata": {},
   "source": [
    "You would access the 3rd element of a list named my_list by using **my_list[2]**."
   ]
  },
  {
   "cell_type": "markdown",
   "metadata": {},
   "source": [
    "#### *3. How can you add the element \"new_item\" to the end of an existing list named my_list?*"
   ]
  },
  {
   "cell_type": "markdown",
   "metadata": {},
   "source": [
    "You can add the element \"new_item\" to the end of list my_list by using the append method which would look like: **my_list.append(\"new_item\")**."
   ]
  },
  {
   "cell_type": "markdown",
   "metadata": {},
   "source": [
    "#### *4. How do you create a Python tuple with the items \"apple\", \"banana\", and \"cherry\"?*"
   ]
  },
  {
   "cell_type": "markdown",
   "metadata": {},
   "source": [
    "You can create a Python tuple with these items by using the following prompt: **(\"apple\",\"banana\",\"cherry\")**."
   ]
  },
  {
   "cell_type": "markdown",
   "metadata": {},
   "source": [
    "#### *5. How do you access the first element of a Python tuple named my_tuple?*\n",
    "\n"
   ]
  },
  {
   "cell_type": "markdown",
   "metadata": {},
   "source": [
    "You can access the first element of tuple, my_tuple by using **my_tuple[0]**."
   ]
  },
  {
   "cell_type": "markdown",
   "metadata": {},
   "source": [
    "#### *6. How do you define a dictionary in Python with keys \"name\", \"age\" and values \"John Doe\", 30?*\n",
    "\n"
   ]
  },
  {
   "cell_type": "markdown",
   "metadata": {},
   "source": [
    "A dictionary for this key and value pair can be create by using: **{\"name\":\"John Doe\",\"age\":30}**."
   ]
  },
  {
   "cell_type": "markdown",
   "metadata": {},
   "source": [
    "#### *7. How can you retrieve the value for the key \"name\" from the dictionary my_dict*"
   ]
  },
  {
   "cell_type": "markdown",
   "metadata": {},
   "source": [
    "You can retrieve the value for the key \"name\" from my_dict by using: **my_dict[\"name\"]**."
   ]
  },
  {
   "cell_type": "markdown",
   "metadata": {},
   "source": [
    "#### *8. How can you change the value associated with the key \"age\" in the dictionary my_dict to 35?*\n",
    "\n"
   ]
  },
  {
   "cell_type": "markdown",
   "metadata": {},
   "source": [
    "You can change the value associated with key \"age\" by using: **my_dict[\"age\"]=35**."
   ]
  },
  {
   "cell_type": "markdown",
   "metadata": {},
   "source": [
    "#### *9. How can you add a new key-value pair \"city\":\"New York\" to the dictionary my_dict?*\n",
    "\n"
   ]
  },
  {
   "cell_type": "markdown",
   "metadata": {},
   "source": [
    "You can add a new key-value pair to my_dict by using: **my_dict[\"city\"]=\"New York\"**."
   ]
  },
  {
   "cell_type": "markdown",
   "metadata": {},
   "source": [
    "#### *10. How do you create a set in Python with the items \"apple\", \"banana\", and \"cherry\"?*\n",
    "\n"
   ]
  },
  {
   "cell_type": "markdown",
   "metadata": {},
   "source": [
    "You can create this set by using: **{\"apple\",\"banana\",\"cherry\"}**."
   ]
  },
  {
   "cell_type": "markdown",
   "metadata": {},
   "source": [
    "#### *11. How do you add the item \"orange\" to an existing set my_set?*\n",
    "\n"
   ]
  },
  {
   "cell_type": "markdown",
   "metadata": {},
   "source": [
    "You can add \"orange\" to my_set by using: **my_set.add(\"orange\")**."
   ]
  },
  {
   "cell_type": "markdown",
   "metadata": {},
   "source": [
    "#### *12. How do you remove the item \"banana\" from the set my_set?*\n",
    "\n"
   ]
  },
  {
   "cell_type": "markdown",
   "metadata": {},
   "source": [
    "You remove \"banana\" from my_set using: **my_set.remove(\"banana\")**."
   ]
  },
  {
   "cell_type": "markdown",
   "metadata": {},
   "source": [
    "#### *13. What is the length of a list my_list with elements [1, 2, 3, 4, 5]?*\n",
    "\n"
   ]
  },
  {
   "cell_type": "markdown",
   "metadata": {},
   "source": [
    "The length of my_list is 5."
   ]
  },
  {
   "cell_type": "markdown",
   "metadata": {},
   "source": [
    "#### *14. What will be the result of my_list * 2 if my_list is [1, 2, 3]?*\n",
    "\n"
   ]
  },
  {
   "cell_type": "markdown",
   "metadata": {},
   "source": [
    "The result of my_list * 2 is **[1,2,3,1,2,3].**"
   ]
  },
  {
   "cell_type": "markdown",
   "metadata": {},
   "source": [
    "#### *15. What is the result of set([1,2,2,3,4,4,4,5,5])?*\n",
    "\n"
   ]
  },
  {
   "cell_type": "markdown",
   "metadata": {},
   "source": [
    "The result of set is **{1,2,3,4,5}**."
   ]
  }
 ],
 "metadata": {
  "kernelspec": {
   "display_name": ".venv",
   "language": "python",
   "name": "python3"
  },
  "language_info": {
   "name": "python",
   "version": "3.13.1"
  }
 },
 "nbformat": 4,
 "nbformat_minor": 2
}
