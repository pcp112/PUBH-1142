{
 "cells": [
  {
   "cell_type": "markdown",
   "metadata": {},
   "source": [
    "### Peter Park PUBH 1142 ##"
   ]
  },
  {
   "cell_type": "markdown",
   "metadata": {},
   "source": [
    "# **Chapter 4 | Spreadsheets and Databases**"
   ]
  },
  {
   "cell_type": "markdown",
   "metadata": {},
   "source": [
    "### **Quiz Questions**"
   ]
  },
  {
   "cell_type": "markdown",
   "metadata": {},
   "source": [
    "##### 1. What is the difference between a spreadsheet and a database?"
   ]
  },
  {
   "cell_type": "markdown",
   "metadata": {},
   "source": [
    "Spreadsheets have a flat/tabular structure, have limited data relations, and are used for calculations and small datasets. In contrast, a database has a complex structure, more integral data relationships, and can manage and manipulate large datasets."
   ]
  },
  {
   "cell_type": "markdown",
   "metadata": {},
   "source": [
    "##### 2. What are the advantages and disadvantages of using a spreadsheet for health data management?"
   ]
  },
  {
   "cell_type": "markdown",
   "metadata": {},
   "source": [
    "On one hand, spreadsheets have a user friendly interface for enteringa and manipulating data, allow for quick solutions for small datasets that only require simple analysis and the spreadsheet software is easy to learn. On the other hand, due to limited data capacity, performance, and data integrity, as well as lax security and limited data relations, spreadsheets may not be the ideal way of managing health data. "
   ]
  },
  {
   "cell_type": "markdown",
   "metadata": {},
   "source": [
    "##### 3. What are the advantages and disadvantages of using a database for health data management?\n"
   ]
  },
  {
   "cell_type": "markdown",
   "metadata": {},
   "source": [
    "The major drawback of using databases is the fact that the user must have knowledge on database design and SQL, however, databases are advantageous because they are designed to handle large and complex datasets, can hold lots of data, maintain data integrity, more advanced data secutrity, and can create relationships between data."
   ]
  },
  {
   "cell_type": "markdown",
   "metadata": {},
   "source": [
    "##### 4. What are some examples of tasks that can be performed using a spreadsheet?\n"
   ]
  },
  {
   "cell_type": "markdown",
   "metadata": {},
   "source": [
    "Using a spreadsheet, you can enter data, sort, filter, and summarize that data, have the spreadsheet run calculations on the data by inputting formulas or functions, and visualize the data through charts."
   ]
  },
  {
   "cell_type": "markdown",
   "metadata": {},
   "source": [
    "##### 5. What are some examples of tasks that can be performed using a database?\n"
   ]
  },
  {
   "cell_type": "markdown",
   "metadata": {},
   "source": [
    "Using a database, a user can store vast amounts of health data, query and report that data, facilitate interoperability, run predictive analytics and precision medicine, and link data across multiple tables. "
   ]
  },
  {
   "cell_type": "markdown",
   "metadata": {},
   "source": [
    "##### 6. What are some examples of tasks that can be performed using both a spreadsheet and a database?\n"
   ]
  },
  {
   "cell_type": "markdown",
   "metadata": {},
   "source": [
    "Both spreadsheets and databases can store data, analyze data, and manipulate data."
   ]
  },
  {
   "cell_type": "markdown",
   "metadata": {},
   "source": [
    "##### 7. What are some examples of tasks that can be performed using neither a spreadsheet nor a database?\n"
   ]
  },
  {
   "cell_type": "markdown",
   "metadata": {},
   "source": [
    "While the text seemed to not explicitly name any tasks, using AI I found that in healthcare, tasks such as complex diagnostic interpretation, maintaining patient confidentiality, ethical decision making, and direct patient care are all things in healthcare that are tasks that require the human hand and these tasks are unrelated to spreadsheets or databases."
   ]
  },
  {
   "cell_type": "markdown",
   "metadata": {},
   "source": [
    "##### 8. What are some examples of tasks that can be performed using a spreadsheet but not a database?\n"
   ]
  },
  {
   "cell_type": "markdown",
   "metadata": {},
   "source": [
    "A spreadsheet can follow conditional formatting rules and spreadsheets allow for quick and easy data entry and manipulation of datasets."
   ]
  },
  {
   "cell_type": "markdown",
   "metadata": {},
   "source": [
    "##### 9. What are some examples of tasks that can be performed using a database but not a spreadsheet?\n"
   ]
  },
  {
   "cell_type": "markdown",
   "metadata": {},
   "source": [
    "A database can manage and manipulate much larger datasets, provide predictive analytics, has multi-user accessibility, facilitates interoperability, and has built in measures to maintain data integrity."
   ]
  },
  {
   "cell_type": "markdown",
   "metadata": {},
   "source": [
    "##### 10. What are some examples of tasks that can be performed using both a spreadsheet and a database?\n"
   ]
  },
  {
   "cell_type": "markdown",
   "metadata": {},
   "source": [
    "Using both a spreadsheet and a database, you can perform data entry, manipulation, and analysis."
   ]
  }
 ],
 "metadata": {
  "language_info": {
   "name": "python"
  }
 },
 "nbformat": 4,
 "nbformat_minor": 2
}
