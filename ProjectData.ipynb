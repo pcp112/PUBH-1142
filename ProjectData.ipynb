{
 "cells": [
  {
   "cell_type": "markdown",
   "metadata": {},
   "source": [
    "# **Antimicrobial Data Wrangling**"
   ]
  },
  {
   "cell_type": "markdown",
   "metadata": {},
   "source": [
    "## Importing Data"
   ]
  },
  {
   "cell_type": "code",
   "execution_count": 1,
   "metadata": {},
   "outputs": [],
   "source": [
    "import numpy as np\n",
    "import pandas as pd"
   ]
  },
  {
   "cell_type": "code",
   "execution_count": 2,
   "metadata": {},
   "outputs": [
    {
     "name": "stderr",
     "output_type": "stream",
     "text": [
      "C:\\Users\\peter\\AppData\\Local\\Temp\\ipykernel_32924\\3711796978.py:3: DtypeWarning: Columns (15,24,26,40,42,44,46,52,54,68,70,76,78,80,82,88,90,116,118,124,126) have mixed types. Specify dtype option on import or set low_memory=False.\n",
      "  df = pd.read_csv('IsolateData (2).csv')\n"
     ]
    }
   ],
   "source": [
    "#import the csv file in \"url\" as a pandas DataFrame\n",
    "#object assigned to the variable \"df\"\n",
    "df = pd.read_csv('IsolateData (2).csv')"
   ]
  },
  {
   "cell_type": "code",
   "execution_count": 3,
   "metadata": {},
   "outputs": [
    {
     "data": {
      "text/html": [
       "<div>\n",
       "<style scoped>\n",
       "    .dataframe tbody tr th:only-of-type {\n",
       "        vertical-align: middle;\n",
       "    }\n",
       "\n",
       "    .dataframe tbody tr th {\n",
       "        vertical-align: top;\n",
       "    }\n",
       "\n",
       "    .dataframe thead th {\n",
       "        text-align: right;\n",
       "    }\n",
       "</style>\n",
       "<table border=\"1\" class=\"dataframe\">\n",
       "  <thead>\n",
       "    <tr style=\"text-align: right;\">\n",
       "      <th></th>\n",
       "      <th>Specimen ID</th>\n",
       "      <th>NCBI Accession Number</th>\n",
       "      <th>WGS ID</th>\n",
       "      <th>AST Approved</th>\n",
       "      <th>WGS Approved</th>\n",
       "      <th>Genus</th>\n",
       "      <th>Species</th>\n",
       "      <th>Serotype</th>\n",
       "      <th>Data Year</th>\n",
       "      <th>Region Name</th>\n",
       "      <th>...</th>\n",
       "      <th>TEL Concl</th>\n",
       "      <th>TEL ConclPred</th>\n",
       "      <th>TET Equiv</th>\n",
       "      <th>TET Rslt</th>\n",
       "      <th>TET Concl</th>\n",
       "      <th>TET ConclPred</th>\n",
       "      <th>TIO Equiv</th>\n",
       "      <th>TIO Rslt</th>\n",
       "      <th>TIO Concl</th>\n",
       "      <th>TIO ConclPred</th>\n",
       "    </tr>\n",
       "  </thead>\n",
       "  <tbody>\n",
       "    <tr>\n",
       "      <th>0</th>\n",
       "      <td>AM39779</td>\n",
       "      <td>NaN</td>\n",
       "      <td>NaN</td>\n",
       "      <td>yes</td>\n",
       "      <td>no</td>\n",
       "      <td>Salmonella</td>\n",
       "      <td>enterica</td>\n",
       "      <td>Typhi</td>\n",
       "      <td>2008</td>\n",
       "      <td>Region 6</td>\n",
       "      <td>...</td>\n",
       "      <td>NaN</td>\n",
       "      <td>NaN</td>\n",
       "      <td>&gt;</td>\n",
       "      <td>32</td>\n",
       "      <td>R</td>\n",
       "      <td>NaN</td>\n",
       "      <td>=</td>\n",
       "      <td>0.5</td>\n",
       "      <td>S</td>\n",
       "      <td>NaN</td>\n",
       "    </tr>\n",
       "    <tr>\n",
       "      <th>1</th>\n",
       "      <td>AM42221</td>\n",
       "      <td>NaN</td>\n",
       "      <td>NaN</td>\n",
       "      <td>yes</td>\n",
       "      <td>no</td>\n",
       "      <td>Salmonella</td>\n",
       "      <td>enterica</td>\n",
       "      <td>Typhi</td>\n",
       "      <td>2009</td>\n",
       "      <td>Region 9</td>\n",
       "      <td>...</td>\n",
       "      <td>NaN</td>\n",
       "      <td>NaN</td>\n",
       "      <td>&lt;=</td>\n",
       "      <td>4</td>\n",
       "      <td>S</td>\n",
       "      <td>NaN</td>\n",
       "      <td>=</td>\n",
       "      <td>1.0</td>\n",
       "      <td>S</td>\n",
       "      <td>NaN</td>\n",
       "    </tr>\n",
       "    <tr>\n",
       "      <th>2</th>\n",
       "      <td>AM40656</td>\n",
       "      <td>NaN</td>\n",
       "      <td>NaN</td>\n",
       "      <td>yes</td>\n",
       "      <td>no</td>\n",
       "      <td>Salmonella</td>\n",
       "      <td>enterica</td>\n",
       "      <td>Typhi</td>\n",
       "      <td>2009</td>\n",
       "      <td>Region 2</td>\n",
       "      <td>...</td>\n",
       "      <td>NaN</td>\n",
       "      <td>NaN</td>\n",
       "      <td>&gt;</td>\n",
       "      <td>32</td>\n",
       "      <td>R</td>\n",
       "      <td>NaN</td>\n",
       "      <td>=</td>\n",
       "      <td>1.0</td>\n",
       "      <td>S</td>\n",
       "      <td>NaN</td>\n",
       "    </tr>\n",
       "    <tr>\n",
       "      <th>3</th>\n",
       "      <td>AM08436</td>\n",
       "      <td>NaN</td>\n",
       "      <td>NaN</td>\n",
       "      <td>yes</td>\n",
       "      <td>no</td>\n",
       "      <td>Salmonella</td>\n",
       "      <td>enterica</td>\n",
       "      <td>Typhi</td>\n",
       "      <td>2000</td>\n",
       "      <td>Region 2</td>\n",
       "      <td>...</td>\n",
       "      <td>NaN</td>\n",
       "      <td>NaN</td>\n",
       "      <td>&lt;=</td>\n",
       "      <td>4</td>\n",
       "      <td>S</td>\n",
       "      <td>NaN</td>\n",
       "      <td>&lt;=</td>\n",
       "      <td>0.5</td>\n",
       "      <td>S</td>\n",
       "      <td>NaN</td>\n",
       "    </tr>\n",
       "    <tr>\n",
       "      <th>4</th>\n",
       "      <td>AM43575</td>\n",
       "      <td>NaN</td>\n",
       "      <td>NaN</td>\n",
       "      <td>yes</td>\n",
       "      <td>no</td>\n",
       "      <td>Salmonella</td>\n",
       "      <td>enterica</td>\n",
       "      <td>Typhi</td>\n",
       "      <td>2010</td>\n",
       "      <td>Region 10</td>\n",
       "      <td>...</td>\n",
       "      <td>NaN</td>\n",
       "      <td>NaN</td>\n",
       "      <td>&lt;=</td>\n",
       "      <td>4</td>\n",
       "      <td>S</td>\n",
       "      <td>NaN</td>\n",
       "      <td>=</td>\n",
       "      <td>0.5</td>\n",
       "      <td>S</td>\n",
       "      <td>NaN</td>\n",
       "    </tr>\n",
       "  </tbody>\n",
       "</table>\n",
       "<p>5 rows × 148 columns</p>\n",
       "</div>"
      ],
      "text/plain": [
       "  Specimen ID NCBI Accession Number WGS ID AST Approved WGS Approved  \\\n",
       "0     AM39779                   NaN    NaN          yes           no   \n",
       "1     AM42221                   NaN    NaN          yes           no   \n",
       "2     AM40656                   NaN    NaN          yes           no   \n",
       "3     AM08436                   NaN    NaN          yes           no   \n",
       "4     AM43575                   NaN    NaN          yes           no   \n",
       "\n",
       "        Genus   Species Serotype  Data Year Region Name  ... TEL Concl  \\\n",
       "0  Salmonella  enterica    Typhi       2008    Region 6  ...       NaN   \n",
       "1  Salmonella  enterica    Typhi       2009    Region 9  ...       NaN   \n",
       "2  Salmonella  enterica    Typhi       2009    Region 2  ...       NaN   \n",
       "3  Salmonella  enterica    Typhi       2000    Region 2  ...       NaN   \n",
       "4  Salmonella  enterica    Typhi       2010   Region 10  ...       NaN   \n",
       "\n",
       "  TEL ConclPred TET Equiv TET Rslt TET Concl TET ConclPred TIO Equiv  \\\n",
       "0           NaN         >       32         R           NaN         =   \n",
       "1           NaN        <=        4         S           NaN         =   \n",
       "2           NaN         >       32         R           NaN         =   \n",
       "3           NaN        <=        4         S           NaN        <=   \n",
       "4           NaN        <=        4         S           NaN         =   \n",
       "\n",
       "   TIO Rslt TIO Concl TIO ConclPred  \n",
       "0       0.5         S           NaN  \n",
       "1       1.0         S           NaN  \n",
       "2       1.0         S           NaN  \n",
       "3       0.5         S           NaN  \n",
       "4       0.5         S           NaN  \n",
       "\n",
       "[5 rows x 148 columns]"
      ]
     },
     "execution_count": 3,
     "metadata": {},
     "output_type": "execute_result"
    }
   ],
   "source": [
    "df.head()"
   ]
  },
  {
   "cell_type": "code",
   "execution_count": 4,
   "metadata": {},
   "outputs": [
    {
     "data": {
      "text/plain": [
       "Index(['Specimen ID', 'NCBI Accession Number', 'WGS ID', 'AST Approved',\n",
       "       'WGS Approved', 'Genus', 'Species', 'Serotype', 'Data Year',\n",
       "       'Region Name',\n",
       "       ...\n",
       "       'TEL Concl', 'TEL ConclPred', 'TET Equiv', 'TET Rslt', 'TET Concl',\n",
       "       'TET ConclPred', 'TIO Equiv', 'TIO Rslt', 'TIO Concl', 'TIO ConclPred'],\n",
       "      dtype='object', length=148)"
      ]
     },
     "execution_count": 4,
     "metadata": {},
     "output_type": "execute_result"
    }
   ],
   "source": [
    "df.columns"
   ]
  },
  {
   "cell_type": "code",
   "execution_count": 40,
   "metadata": {},
   "outputs": [
    {
     "data": {
      "text/plain": [
       "TIO Concl\n",
       "S    5290\n",
       "Name: count, dtype: int64"
      ]
     },
     "execution_count": 40,
     "metadata": {},
     "output_type": "execute_result"
    }
   ],
   "source": [
    "#Find different values in the TIO Concl column and their counts and return them\n",
    "df['TIO Concl'].value_counts()"
   ]
  },
  {
   "cell_type": "markdown",
   "metadata": {},
   "source": [
    "### Statistical Analysis of TIO Rslt Column"
   ]
  },
  {
   "cell_type": "code",
   "execution_count": 9,
   "metadata": {},
   "outputs": [],
   "source": [
    "Result=df['TIO Rslt']"
   ]
  },
  {
   "cell_type": "code",
   "execution_count": 10,
   "metadata": {},
   "outputs": [
    {
     "data": {
      "text/plain": [
       "array([0.5, 1. , 1. , ..., nan, nan, nan], shape=(7339,))"
      ]
     },
     "execution_count": 10,
     "metadata": {},
     "output_type": "execute_result"
    }
   ],
   "source": [
    "Result.to_numpy()"
   ]
  },
  {
   "cell_type": "code",
   "execution_count": 11,
   "metadata": {},
   "outputs": [
    {
     "data": {
      "text/plain": [
       "np.float64(0.12)"
      ]
     },
     "execution_count": 11,
     "metadata": {},
     "output_type": "execute_result"
    }
   ],
   "source": [
    "Result.min()"
   ]
  },
  {
   "cell_type": "code",
   "execution_count": 12,
   "metadata": {},
   "outputs": [
    {
     "data": {
      "text/plain": [
       "np.float64(2.0)"
      ]
     },
     "execution_count": 12,
     "metadata": {},
     "output_type": "execute_result"
    }
   ],
   "source": [
    "Result.max()"
   ]
  },
  {
   "cell_type": "code",
   "execution_count": 13,
   "metadata": {},
   "outputs": [
    {
     "data": {
      "text/plain": [
       "np.float64(0.5)"
      ]
     },
     "execution_count": 13,
     "metadata": {},
     "output_type": "execute_result"
    }
   ],
   "source": [
    "Result.median()"
   ]
  },
  {
   "cell_type": "code",
   "execution_count": 14,
   "metadata": {},
   "outputs": [
    {
     "data": {
      "text/plain": [
       "np.float64(0.5444347826086956)"
      ]
     },
     "execution_count": 14,
     "metadata": {},
     "output_type": "execute_result"
    }
   ],
   "source": [
    "Result.mean()"
   ]
  },
  {
   "cell_type": "code",
   "execution_count": 15,
   "metadata": {},
   "outputs": [
    {
     "data": {
      "text/plain": [
       "np.float64(0.19939280109467256)"
      ]
     },
     "execution_count": 15,
     "metadata": {},
     "output_type": "execute_result"
    }
   ],
   "source": [
    "Result.std()"
   ]
  },
  {
   "cell_type": "markdown",
   "metadata": {},
   "source": [
    "### Statistical Analysis of TET Rslt"
   ]
  },
  {
   "cell_type": "code",
   "execution_count": 16,
   "metadata": {},
   "outputs": [],
   "source": [
    "Tet=df['TET Rslt']"
   ]
  },
  {
   "cell_type": "code",
   "execution_count": 17,
   "metadata": {},
   "outputs": [
    {
     "data": {
      "text/plain": [
       "array([32,  4, 32, ...,  4,  4,  4], shape=(7339,))"
      ]
     },
     "execution_count": 17,
     "metadata": {},
     "output_type": "execute_result"
    }
   ],
   "source": [
    "Tet.to_numpy()"
   ]
  },
  {
   "cell_type": "code",
   "execution_count": 18,
   "metadata": {},
   "outputs": [
    {
     "data": {
      "text/plain": [
       "np.int64(4)"
      ]
     },
     "execution_count": 18,
     "metadata": {},
     "output_type": "execute_result"
    }
   ],
   "source": [
    "Tet.min()"
   ]
  },
  {
   "cell_type": "code",
   "execution_count": 19,
   "metadata": {},
   "outputs": [
    {
     "data": {
      "text/plain": [
       "np.int64(32)"
      ]
     },
     "execution_count": 19,
     "metadata": {},
     "output_type": "execute_result"
    }
   ],
   "source": [
    "Tet.max()"
   ]
  },
  {
   "cell_type": "code",
   "execution_count": 20,
   "metadata": {},
   "outputs": [
    {
     "data": {
      "text/plain": [
       "np.float64(4.0)"
      ]
     },
     "execution_count": 20,
     "metadata": {},
     "output_type": "execute_result"
    }
   ],
   "source": [
    "Tet.median()"
   ]
  },
  {
   "cell_type": "code",
   "execution_count": 21,
   "metadata": {},
   "outputs": [
    {
     "data": {
      "text/plain": [
       "np.float64(5.5119226052595724)"
      ]
     },
     "execution_count": 21,
     "metadata": {},
     "output_type": "execute_result"
    }
   ],
   "source": [
    "Tet.mean()"
   ]
  },
  {
   "cell_type": "code",
   "execution_count": 22,
   "metadata": {},
   "outputs": [
    {
     "data": {
      "text/plain": [
       "np.float64(5.959339225801971)"
      ]
     },
     "execution_count": 22,
     "metadata": {},
     "output_type": "execute_result"
    }
   ],
   "source": [
    "Tet.std()"
   ]
  }
 ],
 "metadata": {
  "kernelspec": {
   "display_name": ".venv",
   "language": "python",
   "name": "python3"
  },
  "language_info": {
   "codemirror_mode": {
    "name": "ipython",
    "version": 3
   },
   "file_extension": ".py",
   "mimetype": "text/x-python",
   "name": "python",
   "nbconvert_exporter": "python",
   "pygments_lexer": "ipython3",
   "version": "3.13.1"
  }
 },
 "nbformat": 4,
 "nbformat_minor": 2
}
