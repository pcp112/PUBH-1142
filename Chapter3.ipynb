{
 "cells": [
  {
   "cell_type": "markdown",
   "metadata": {},
   "source": [
    "## Peter Park                                                                                                          PUBH 1142-10 "
   ]
  },
  {
   "cell_type": "markdown",
   "metadata": {},
   "source": [
    "#### **Quiz Questions for Chapter 3**"
   ]
  },
  {
   "cell_type": "markdown",
   "metadata": {},
   "source": [
    "##### 1. What is the primary goal of data anonymization? "
   ]
  },
  {
   "cell_type": "markdown",
   "metadata": {},
   "source": [
    "The primary goal of data anonymization is to make patient data completely anonymous or as close to anonymous as possible as a way to protect patient's identity and private or sensitive information. This practice is helpful for maintaining a patient's privacy while being able to utilize their data for studies and research."
   ]
  },
  {
   "cell_type": "markdown",
   "metadata": {},
   "source": [
    "##### 2. What is the Havasupai Tribe case about?"
   ]
  },
  {
   "cell_type": "markdown",
   "metadata": {},
   "source": [
    "The case is about the Arizona State University using blood samples collected for diabetes research being used for additional, unauthorized research behind the tribe's back. This violated the tribe's consent and cultural beliefs."
   ]
  },
  {
   "cell_type": "markdown",
   "metadata": {},
   "source": [
    "##### 3. What was the largest health data breach in history?\n",
    "\n"
   ]
  },
  {
   "cell_type": "markdown",
   "metadata": {},
   "source": [
    "The largest health data breach in history was the Anthem breach in 2015 where hackers cyberattacked Anthem's systems and got access to the personal information of nearly 78.8 million people. "
   ]
  },
  {
   "cell_type": "markdown",
   "metadata": {},
   "source": [
    "##### 4. What is the pulse oximeter controversy about?\n",
    "\n"
   ]
  },
  {
   "cell_type": "markdown",
   "metadata": {},
   "source": [
    "The controversy is about the pulse oximeter overestimating the oxygen levels for darker skinned individuals because the device would have its algorithm's based primarily on light skinned individuals which lead to delay of treatment for darker skinned individuals"
   ]
  },
  {
   "cell_type": "markdown",
   "metadata": {},
   "source": [
    "##### 5. What is the role of an Institutional Review Board (IRB) in research?\n",
    "\n"
   ]
  },
  {
   "cell_type": "markdown",
   "metadata": {},
   "source": [
    "The IRB is there to ensure ethical conduct and protect the rights of patients in research involving human subjects."
   ]
  },
  {
   "cell_type": "markdown",
   "metadata": {},
   "source": [
    "##### 6. What is the difference between spreadsheet software and database software for health data management?\n",
    "\n"
   ]
  },
  {
   "cell_type": "markdown",
   "metadata": {},
   "source": [
    "Spreadsheet software is limited in the volume of data it can hold and how secure it can be. Meanwhile, database software can handle larger datasets and allows for multi-user support."
   ]
  },
  {
   "cell_type": "markdown",
   "metadata": {},
   "source": [
    "##### 7. What is a conflict of interest in public health research?\n",
    "\n"
   ]
  },
  {
   "cell_type": "markdown",
   "metadata": {},
   "source": [
    "A conflict of interest in public health research occurs when secondary interests, such as financial or personal interests, causing the findings, the reporting of research, or conduct of the research to be biased or influenced. "
   ]
  },
  {
   "cell_type": "markdown",
   "metadata": {},
   "source": [
    "##### 8. What is informed consent in the context of health data collection?\n",
    "\n"
   ]
  },
  {
   "cell_type": "markdown",
   "metadata": {},
   "source": [
    "Informed consent requires participating individuals to be provided with the information necessary to make an educated decision about their participation. They will typically be provided with the purpose, use, and the potential risks that lie with the data collection."
   ]
  },
  {
   "cell_type": "markdown",
   "metadata": {},
   "source": [
    "##### 9. What is data masking in the context of de-identification of health data?\n",
    "\n"
   ]
  },
  {
   "cell_type": "markdown",
   "metadata": {},
   "source": [
    "Data masking in de-identification of health data is the process of replacing identifiable information with random characters or through omitting them entirely. "
   ]
  },
  {
   "cell_type": "markdown",
   "metadata": {},
   "source": [
    "##### 10. What is the principle of k-anonymity in the context of de-identification of health data?"
   ]
  },
  {
   "cell_type": "markdown",
   "metadata": {},
   "source": [
    "K-anonymity ensures that each group in a dataset will have to have at least k amound to records tied to it making it difficult to single out an individual."
   ]
  },
  {
   "cell_type": "markdown",
   "metadata": {},
   "source": [
    "##### 11. What is the main concern about conflicts of interest in public health research?\n",
    "\n"
   ]
  },
  {
   "cell_type": "markdown",
   "metadata": {},
   "source": [
    "The maion concern is that conflicts of interest can threaten the integrity of the research which can lead to the results of the study being biased and public trust decreasing as a result. "
   ]
  },
  {
   "cell_type": "markdown",
   "metadata": {},
   "source": [
    "##### 12. What is the first step in managing conflicts of interest in public health research?\n",
    "\n"
   ]
  },
  {
   "cell_type": "markdown",
   "metadata": {},
   "source": [
    "Managing conflicts of interest starts with being transparent about these conflicts of interest and disclosing any possible ones. "
   ]
  },
  {
   "cell_type": "markdown",
   "metadata": {},
   "source": [
    "##### 13. What is the role of independent oversight in managing conflicts of interest in public health research?\n",
    "\n"
   ]
  },
  {
   "cell_type": "markdown",
   "metadata": {},
   "source": [
    "Independent oversight manages conflicts through several committees reviewing research proposals, looking over ongoing research, and reviewing research results before a study is published. "
   ]
  },
  {
   "cell_type": "markdown",
   "metadata": {},
   "source": [
    "##### 14. What is one strategy for mitigating conflicts of interest in public health research?\n",
    "\n"
   ]
  },
  {
   "cell_type": "markdown",
   "metadata": {},
   "source": [
    "Avoidance, the choice to not participate in research or severing financial ties with industry partners is one strategy for mitigating any conflicts of interest. "
   ]
  },
  {
   "cell_type": "markdown",
   "metadata": {},
   "source": [
    "##### 15. What is the potential impact of not properly managing conflicts of interest in public health research?\n",
    "\n"
   ]
  },
  {
   "cell_type": "markdown",
   "metadata": {},
   "source": [
    "The potential impact of not properly managing conflicts of interest in research is the loss of integrity, biased results, and the loss of public trust in public health institutions and the research that they do. "
   ]
  }
 ],
 "metadata": {
  "language_info": {
   "name": "python"
  }
 },
 "nbformat": 4,
 "nbformat_minor": 2
}
