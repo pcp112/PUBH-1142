{
 "cells": [
  {
   "cell_type": "markdown",
   "metadata": {},
   "source": [
    "# Truncated Ver. of Open+Atlas_Reuse_Data"
   ]
  },
  {
   "cell_type": "markdown",
   "metadata": {},
   "source": [
    "## Importing Packages"
   ]
  },
  {
   "cell_type": "code",
   "execution_count": 1,
   "metadata": {},
   "outputs": [],
   "source": [
    "import pandas as pd\n",
    "from scipy import stats"
   ]
  },
  {
   "cell_type": "markdown",
   "metadata": {},
   "source": [
    "## Data Import"
   ]
  },
  {
   "cell_type": "code",
   "execution_count": 2,
   "metadata": {},
   "outputs": [],
   "source": [
    "df=pd.read_csv('Truncated.csv')"
   ]
  },
  {
   "cell_type": "code",
   "execution_count": 3,
   "metadata": {},
   "outputs": [
    {
     "data": {
      "text/plain": [
       "(321, 19)"
      ]
     },
     "execution_count": 3,
     "metadata": {},
     "output_type": "execute_result"
    }
   ],
   "source": [
    "df.shape"
   ]
  },
  {
   "cell_type": "code",
   "execution_count": 4,
   "metadata": {},
   "outputs": [
    {
     "data": {
      "text/plain": [
       "Index(['Isolate Id', 'Study', 'Species', 'Organism Group', 'Country', 'State',\n",
       "       'Gender', 'Age Group', 'Speciality', 'Source', 'In / Out Patient',\n",
       "       'Year', 'Phenotype', 'Amikacin', 'Amikacin_I',\n",
       "       'Amoxycillin clavulanate', 'Amoxycillin clavulanate_I', 'Ampicillin',\n",
       "       'Ampicillin_I'],\n",
       "      dtype='object')"
      ]
     },
     "execution_count": 4,
     "metadata": {},
     "output_type": "execute_result"
    }
   ],
   "source": [
    "df.columns"
   ]
  },
  {
   "cell_type": "code",
   "execution_count": 5,
   "metadata": {},
   "outputs": [
    {
     "data": {
      "application/vnd.microsoft.datawrangler.viewer.v0+json": {
       "columns": [
        {
         "name": "index",
         "rawType": "int64",
         "type": "integer"
        },
        {
         "name": "Isolate Id",
         "rawType": "float64",
         "type": "float"
        },
        {
         "name": "Study",
         "rawType": "object",
         "type": "string"
        },
        {
         "name": "Species",
         "rawType": "object",
         "type": "string"
        },
        {
         "name": "Organism Group",
         "rawType": "object",
         "type": "string"
        },
        {
         "name": "Country",
         "rawType": "object",
         "type": "string"
        },
        {
         "name": "State",
         "rawType": "float64",
         "type": "float"
        },
        {
         "name": "Gender",
         "rawType": "object",
         "type": "string"
        },
        {
         "name": "Age Group",
         "rawType": "object",
         "type": "string"
        },
        {
         "name": "Speciality",
         "rawType": "object",
         "type": "string"
        },
        {
         "name": "Source",
         "rawType": "object",
         "type": "string"
        },
        {
         "name": "In / Out Patient",
         "rawType": "object",
         "type": "string"
        },
        {
         "name": "Year",
         "rawType": "float64",
         "type": "float"
        },
        {
         "name": "Phenotype",
         "rawType": "object",
         "type": "unknown"
        },
        {
         "name": "Amikacin",
         "rawType": "object",
         "type": "string"
        },
        {
         "name": "Amikacin_I",
         "rawType": "object",
         "type": "string"
        },
        {
         "name": "Amoxycillin clavulanate",
         "rawType": "object",
         "type": "string"
        },
        {
         "name": "Amoxycillin clavulanate_I",
         "rawType": "object",
         "type": "unknown"
        },
        {
         "name": "Ampicillin",
         "rawType": "object",
         "type": "string"
        },
        {
         "name": "Ampicillin_I",
         "rawType": "object",
         "type": "unknown"
        }
       ],
       "conversionMethod": "pd.DataFrame",
       "ref": "a928cbbf-6a11-4193-99be-a5619df8d8d4",
       "rows": [
        [
         "0",
         "1000000.0",
         "TEST",
         "Pseudomonas aeruginosa",
         "Non-Enterobacteriaceae",
         "France",
         null,
         "Male",
         "85 and Over",
         "Emergency Room",
         "GU: Urine",
         "None Given",
         "2013.0",
         null,
         "8",
         "Susceptible",
         ">32",
         null,
         ">32",
         null
        ],
        [
         "1",
         "1000001.0",
         "TEST",
         "Pseudomonas aeruginosa",
         "Non-Enterobacteriaceae",
         "France",
         null,
         "Female",
         "13 to 18 Years",
         "Emergency Room",
         "HEENT: Ears",
         "None Given",
         "2013.0",
         null,
         "4",
         "Susceptible",
         ">32",
         null,
         ">32",
         null
        ],
        [
         "2",
         "1000002.0",
         "TEST",
         "Pseudomonas aeruginosa",
         "Non-Enterobacteriaceae",
         "France",
         null,
         "Female",
         "65 to 84 Years",
         "Nursing Home / Rehab",
         "GU: Urine",
         "None Given",
         "2013.0",
         null,
         "4",
         "Susceptible",
         ">32",
         null,
         ">32",
         null
        ],
        [
         "3",
         "1000003.0",
         "TEST",
         "Pseudomonas aeruginosa",
         "Non-Enterobacteriaceae",
         "France",
         null,
         "Male",
         "19 to 64 Years",
         "Medicine General",
         "INT: Skin",
         "None Given",
         "2013.0",
         null,
         "4",
         "Susceptible",
         ">32",
         null,
         ">32",
         null
        ],
        [
         "4",
         "1000004.0",
         "TEST",
         "Serratia marcescens",
         "Enterobacteriaceae",
         "France",
         null,
         "Male",
         "19 to 64 Years",
         "Medicine General",
         "CVS: Blood",
         "None Given",
         "2013.0",
         null,
         "2",
         "Susceptible",
         ">32",
         "Resistant",
         ">32",
         "Resistant"
        ]
       ],
       "shape": {
        "columns": 19,
        "rows": 5
       }
      },
      "text/html": [
       "<div>\n",
       "<style scoped>\n",
       "    .dataframe tbody tr th:only-of-type {\n",
       "        vertical-align: middle;\n",
       "    }\n",
       "\n",
       "    .dataframe tbody tr th {\n",
       "        vertical-align: top;\n",
       "    }\n",
       "\n",
       "    .dataframe thead th {\n",
       "        text-align: right;\n",
       "    }\n",
       "</style>\n",
       "<table border=\"1\" class=\"dataframe\">\n",
       "  <thead>\n",
       "    <tr style=\"text-align: right;\">\n",
       "      <th></th>\n",
       "      <th>Isolate Id</th>\n",
       "      <th>Study</th>\n",
       "      <th>Species</th>\n",
       "      <th>Organism Group</th>\n",
       "      <th>Country</th>\n",
       "      <th>State</th>\n",
       "      <th>Gender</th>\n",
       "      <th>Age Group</th>\n",
       "      <th>Speciality</th>\n",
       "      <th>Source</th>\n",
       "      <th>In / Out Patient</th>\n",
       "      <th>Year</th>\n",
       "      <th>Phenotype</th>\n",
       "      <th>Amikacin</th>\n",
       "      <th>Amikacin_I</th>\n",
       "      <th>Amoxycillin clavulanate</th>\n",
       "      <th>Amoxycillin clavulanate_I</th>\n",
       "      <th>Ampicillin</th>\n",
       "      <th>Ampicillin_I</th>\n",
       "    </tr>\n",
       "  </thead>\n",
       "  <tbody>\n",
       "    <tr>\n",
       "      <th>0</th>\n",
       "      <td>1000000.0</td>\n",
       "      <td>TEST</td>\n",
       "      <td>Pseudomonas aeruginosa</td>\n",
       "      <td>Non-Enterobacteriaceae</td>\n",
       "      <td>France</td>\n",
       "      <td>NaN</td>\n",
       "      <td>Male</td>\n",
       "      <td>85 and Over</td>\n",
       "      <td>Emergency Room</td>\n",
       "      <td>GU: Urine</td>\n",
       "      <td>None Given</td>\n",
       "      <td>2013.0</td>\n",
       "      <td>NaN</td>\n",
       "      <td>8</td>\n",
       "      <td>Susceptible</td>\n",
       "      <td>&gt;32</td>\n",
       "      <td>NaN</td>\n",
       "      <td>&gt;32</td>\n",
       "      <td>NaN</td>\n",
       "    </tr>\n",
       "    <tr>\n",
       "      <th>1</th>\n",
       "      <td>1000001.0</td>\n",
       "      <td>TEST</td>\n",
       "      <td>Pseudomonas aeruginosa</td>\n",
       "      <td>Non-Enterobacteriaceae</td>\n",
       "      <td>France</td>\n",
       "      <td>NaN</td>\n",
       "      <td>Female</td>\n",
       "      <td>13 to 18 Years</td>\n",
       "      <td>Emergency Room</td>\n",
       "      <td>HEENT: Ears</td>\n",
       "      <td>None Given</td>\n",
       "      <td>2013.0</td>\n",
       "      <td>NaN</td>\n",
       "      <td>4</td>\n",
       "      <td>Susceptible</td>\n",
       "      <td>&gt;32</td>\n",
       "      <td>NaN</td>\n",
       "      <td>&gt;32</td>\n",
       "      <td>NaN</td>\n",
       "    </tr>\n",
       "    <tr>\n",
       "      <th>2</th>\n",
       "      <td>1000002.0</td>\n",
       "      <td>TEST</td>\n",
       "      <td>Pseudomonas aeruginosa</td>\n",
       "      <td>Non-Enterobacteriaceae</td>\n",
       "      <td>France</td>\n",
       "      <td>NaN</td>\n",
       "      <td>Female</td>\n",
       "      <td>65 to 84 Years</td>\n",
       "      <td>Nursing Home / Rehab</td>\n",
       "      <td>GU: Urine</td>\n",
       "      <td>None Given</td>\n",
       "      <td>2013.0</td>\n",
       "      <td>NaN</td>\n",
       "      <td>4</td>\n",
       "      <td>Susceptible</td>\n",
       "      <td>&gt;32</td>\n",
       "      <td>NaN</td>\n",
       "      <td>&gt;32</td>\n",
       "      <td>NaN</td>\n",
       "    </tr>\n",
       "    <tr>\n",
       "      <th>3</th>\n",
       "      <td>1000003.0</td>\n",
       "      <td>TEST</td>\n",
       "      <td>Pseudomonas aeruginosa</td>\n",
       "      <td>Non-Enterobacteriaceae</td>\n",
       "      <td>France</td>\n",
       "      <td>NaN</td>\n",
       "      <td>Male</td>\n",
       "      <td>19 to 64 Years</td>\n",
       "      <td>Medicine General</td>\n",
       "      <td>INT: Skin</td>\n",
       "      <td>None Given</td>\n",
       "      <td>2013.0</td>\n",
       "      <td>NaN</td>\n",
       "      <td>4</td>\n",
       "      <td>Susceptible</td>\n",
       "      <td>&gt;32</td>\n",
       "      <td>NaN</td>\n",
       "      <td>&gt;32</td>\n",
       "      <td>NaN</td>\n",
       "    </tr>\n",
       "    <tr>\n",
       "      <th>4</th>\n",
       "      <td>1000004.0</td>\n",
       "      <td>TEST</td>\n",
       "      <td>Serratia marcescens</td>\n",
       "      <td>Enterobacteriaceae</td>\n",
       "      <td>France</td>\n",
       "      <td>NaN</td>\n",
       "      <td>Male</td>\n",
       "      <td>19 to 64 Years</td>\n",
       "      <td>Medicine General</td>\n",
       "      <td>CVS: Blood</td>\n",
       "      <td>None Given</td>\n",
       "      <td>2013.0</td>\n",
       "      <td>NaN</td>\n",
       "      <td>2</td>\n",
       "      <td>Susceptible</td>\n",
       "      <td>&gt;32</td>\n",
       "      <td>Resistant</td>\n",
       "      <td>&gt;32</td>\n",
       "      <td>Resistant</td>\n",
       "    </tr>\n",
       "  </tbody>\n",
       "</table>\n",
       "</div>"
      ],
      "text/plain": [
       "   Isolate Id Study                 Species          Organism Group Country  \\\n",
       "0   1000000.0  TEST  Pseudomonas aeruginosa  Non-Enterobacteriaceae  France   \n",
       "1   1000001.0  TEST  Pseudomonas aeruginosa  Non-Enterobacteriaceae  France   \n",
       "2   1000002.0  TEST  Pseudomonas aeruginosa  Non-Enterobacteriaceae  France   \n",
       "3   1000003.0  TEST  Pseudomonas aeruginosa  Non-Enterobacteriaceae  France   \n",
       "4   1000004.0  TEST     Serratia marcescens      Enterobacteriaceae  France   \n",
       "\n",
       "   State  Gender       Age Group            Speciality       Source  \\\n",
       "0    NaN    Male     85 and Over        Emergency Room    GU: Urine   \n",
       "1    NaN  Female  13 to 18 Years        Emergency Room  HEENT: Ears   \n",
       "2    NaN  Female  65 to 84 Years  Nursing Home / Rehab    GU: Urine   \n",
       "3    NaN    Male  19 to 64 Years      Medicine General    INT: Skin   \n",
       "4    NaN    Male  19 to 64 Years      Medicine General   CVS: Blood   \n",
       "\n",
       "  In / Out Patient    Year Phenotype Amikacin   Amikacin_I  \\\n",
       "0       None Given  2013.0       NaN        8  Susceptible   \n",
       "1       None Given  2013.0       NaN        4  Susceptible   \n",
       "2       None Given  2013.0       NaN        4  Susceptible   \n",
       "3       None Given  2013.0       NaN        4  Susceptible   \n",
       "4       None Given  2013.0       NaN        2  Susceptible   \n",
       "\n",
       "  Amoxycillin clavulanate Amoxycillin clavulanate_I Ampicillin Ampicillin_I  \n",
       "0                     >32                       NaN        >32          NaN  \n",
       "1                     >32                       NaN        >32          NaN  \n",
       "2                     >32                       NaN        >32          NaN  \n",
       "3                     >32                       NaN        >32          NaN  \n",
       "4                     >32                 Resistant        >32    Resistant  "
      ]
     },
     "execution_count": 5,
     "metadata": {},
     "output_type": "execute_result"
    }
   ],
   "source": [
    "df.head()"
   ]
  },
  {
   "cell_type": "code",
   "execution_count": 6,
   "metadata": {},
   "outputs": [
    {
     "name": "stdout",
     "output_type": "stream",
     "text": [
      "<class 'pandas.core.frame.DataFrame'>\n",
      "RangeIndex: 321 entries, 0 to 320\n",
      "Data columns (total 19 columns):\n",
      " #   Column                     Non-Null Count  Dtype  \n",
      "---  ------                     --------------  -----  \n",
      " 0   Isolate Id                 320 non-null    float64\n",
      " 1   Study                      320 non-null    object \n",
      " 2   Species                    320 non-null    object \n",
      " 3   Organism Group             320 non-null    object \n",
      " 4   Country                    320 non-null    object \n",
      " 5   State                      0 non-null      float64\n",
      " 6   Gender                     317 non-null    object \n",
      " 7   Age Group                  320 non-null    object \n",
      " 8   Speciality                 320 non-null    object \n",
      " 9   Source                     320 non-null    object \n",
      " 10  In / Out Patient           320 non-null    object \n",
      " 11  Year                       320 non-null    float64\n",
      " 12  Phenotype                  146 non-null    object \n",
      " 13  Amikacin                   224 non-null    object \n",
      " 14  Amikacin_I                 195 non-null    object \n",
      " 15  Amoxycillin clavulanate    320 non-null    object \n",
      " 16  Amoxycillin clavulanate_I  178 non-null    object \n",
      " 17  Ampicillin                 321 non-null    object \n",
      " 18  Ampicillin_I               211 non-null    object \n",
      "dtypes: float64(3), object(16)\n",
      "memory usage: 47.8+ KB\n"
     ]
    }
   ],
   "source": [
    "df.info()"
   ]
  },
  {
   "cell_type": "markdown",
   "metadata": {},
   "source": [
    "## Categorical Data"
   ]
  },
  {
   "cell_type": "markdown",
   "metadata": {},
   "source": [
    "The Amikacin_I column describes the susceptibility of the sample to the drug Amikacin"
   ]
  },
  {
   "cell_type": "code",
   "execution_count": 7,
   "metadata": {},
   "outputs": [
    {
     "data": {
      "text/plain": [
       "0    Susceptible\n",
       "1    Susceptible\n",
       "2    Susceptible\n",
       "3    Susceptible\n",
       "4    Susceptible\n",
       "5    Susceptible\n",
       "6    Susceptible\n",
       "7      Resistant\n",
       "8    Susceptible\n",
       "9    Susceptible\n",
       "Name: Amikacin_I, dtype: object"
      ]
     },
     "execution_count": 7,
     "metadata": {},
     "output_type": "execute_result"
    }
   ],
   "source": [
    "# Show the first 10 rows of the 'Amikacin_I' column\n",
    "df['Amikacin_I'].head(10)"
   ]
  },
  {
   "cell_type": "code",
   "execution_count": 8,
   "metadata": {},
   "outputs": [
    {
     "data": {
      "text/plain": [
       "Amikacin_I\n",
       "Susceptible     180\n",
       "Resistant        12\n",
       "Intermediate      3\n",
       "Name: count, dtype: int64"
      ]
     },
     "execution_count": 8,
     "metadata": {},
     "output_type": "execute_result"
    }
   ],
   "source": [
    "df['Amikacin_I'].value_counts()"
   ]
  },
  {
   "cell_type": "code",
   "execution_count": 10,
   "metadata": {},
   "outputs": [
    {
     "data": {
      "text/plain": [
       "Amikacin_I\n",
       "Susceptible     92.307692\n",
       "Resistant        6.153846\n",
       "Intermediate     1.538462\n",
       "Name: proportion, dtype: float64"
      ]
     },
     "execution_count": 10,
     "metadata": {},
     "output_type": "execute_result"
    }
   ],
   "source": [
    "df['Amikacin_I'].value_counts(normalize=True) * 100"
   ]
  },
  {
   "cell_type": "code",
   "execution_count": 11,
   "metadata": {},
   "outputs": [
    {
     "data": {
      "text/plain": [
       "array(['Susceptible', 'Resistant', nan, 'Intermediate'], dtype=object)"
      ]
     },
     "execution_count": 11,
     "metadata": {},
     "output_type": "execute_result"
    }
   ],
   "source": [
    "df['Amikacin_I'].unique()"
   ]
  },
  {
   "cell_type": "markdown",
   "metadata": {},
   "source": [
    "## Categorical/Categorical Comparison"
   ]
  },
  {
   "cell_type": "markdown",
   "metadata": {},
   "source": [
    "The Species column described below contains all of the species that were tested in this study. "
   ]
  },
  {
   "cell_type": "code",
   "execution_count": 13,
   "metadata": {},
   "outputs": [
    {
     "data": {
      "text/plain": [
       "array(['Pseudomonas aeruginosa', 'Serratia marcescens',\n",
       "       'Acinetobacter pitii', 'Acinetobacter baumannii',\n",
       "       'Enterobacter cloacae', 'Escherichia coli',\n",
       "       'Haemophilus influenzae', 'Staphylococcus aureus',\n",
       "       'Enterococcus faecium', 'Enterococcus faecalis',\n",
       "       'Streptococcus agalactiae', 'Klebsiella pneumoniae',\n",
       "       'Klebsiella (Enterobacter) aerogenes', 'Acinetobacter junii',\n",
       "       'Klebsiella oxytoca', 'Enterobacter kobei',\n",
       "       'Streptococcus pneumoniae', 'Acinetobacter, non-speciated',\n",
       "       'Acinetobacter lwoffii', 'Serratia liquefaciens',\n",
       "       'Enterobacter asburiae', 'Citrobacter freundii', nan], dtype=object)"
      ]
     },
     "execution_count": 13,
     "metadata": {},
     "output_type": "execute_result"
    }
   ],
   "source": [
    "df['Species'].unique()"
   ]
  },
  {
   "cell_type": "code",
   "execution_count": 14,
   "metadata": {},
   "outputs": [
    {
     "data": {
      "text/plain": [
       "Species\n",
       "Pseudomonas aeruginosa                 36\n",
       "Staphylococcus aureus                  36\n",
       "Klebsiella pneumoniae                  36\n",
       "Haemophilus influenzae                 29\n",
       "Escherichia coli                       26\n",
       "Enterococcus faecalis                  25\n",
       "Enterobacter cloacae                   20\n",
       "Klebsiella oxytoca                     19\n",
       "Streptococcus agalactiae               17\n",
       "Serratia marcescens                    16\n",
       "Acinetobacter baumannii                15\n",
       "Streptococcus pneumoniae               14\n",
       "Klebsiella (Enterobacter) aerogenes     8\n",
       "Enterobacter kobei                      5\n",
       "Enterococcus faecium                    4\n",
       "Acinetobacter, non-speciated            4\n",
       "Acinetobacter pitii                     3\n",
       "Serratia liquefaciens                   2\n",
       "Enterobacter asburiae                   2\n",
       "Acinetobacter junii                     1\n",
       "Acinetobacter lwoffii                   1\n",
       "Citrobacter freundii                    1\n",
       "Name: count, dtype: int64"
      ]
     },
     "execution_count": 14,
     "metadata": {},
     "output_type": "execute_result"
    }
   ],
   "source": [
    "df.Species.value_counts()"
   ]
  },
  {
   "cell_type": "code",
   "execution_count": 15,
   "metadata": {},
   "outputs": [
    {
     "data": {
      "text/plain": [
       "Species\n",
       "Pseudomonas aeruginosa                 11.2500\n",
       "Staphylococcus aureus                  11.2500\n",
       "Klebsiella pneumoniae                  11.2500\n",
       "Haemophilus influenzae                  9.0625\n",
       "Escherichia coli                        8.1250\n",
       "Enterococcus faecalis                   7.8125\n",
       "Enterobacter cloacae                    6.2500\n",
       "Klebsiella oxytoca                      5.9375\n",
       "Streptococcus agalactiae                5.3125\n",
       "Serratia marcescens                     5.0000\n",
       "Acinetobacter baumannii                 4.6875\n",
       "Streptococcus pneumoniae                4.3750\n",
       "Klebsiella (Enterobacter) aerogenes     2.5000\n",
       "Enterobacter kobei                      1.5625\n",
       "Enterococcus faecium                    1.2500\n",
       "Acinetobacter, non-speciated            1.2500\n",
       "Acinetobacter pitii                     0.9375\n",
       "Serratia liquefaciens                   0.6250\n",
       "Enterobacter asburiae                   0.6250\n",
       "Acinetobacter junii                     0.3125\n",
       "Acinetobacter lwoffii                   0.3125\n",
       "Citrobacter freundii                    0.3125\n",
       "Name: proportion, dtype: float64"
      ]
     },
     "execution_count": 15,
     "metadata": {},
     "output_type": "execute_result"
    }
   ],
   "source": [
    "df.Species.value_counts(normalize=True) * 100"
   ]
  },
  {
   "cell_type": "code",
   "execution_count": 16,
   "metadata": {},
   "outputs": [
    {
     "data": {
      "application/vnd.microsoft.datawrangler.viewer.v0+json": {
       "columns": [
        {
         "name": "Species",
         "rawType": "object",
         "type": "string"
        },
        {
         "name": "Intermediate",
         "rawType": "int64",
         "type": "integer"
        },
        {
         "name": "Resistant",
         "rawType": "int64",
         "type": "integer"
        },
        {
         "name": "Susceptible",
         "rawType": "int64",
         "type": "integer"
        }
       ],
       "conversionMethod": "pd.DataFrame",
       "ref": "791c517c-7927-4bbe-ab4a-d1bc848e4a6b",
       "rows": [
        [
         "Acinetobacter baumannii",
         "1",
         "11",
         "3"
        ],
        [
         "Acinetobacter junii",
         "0",
         "0",
         "1"
        ],
        [
         "Acinetobacter lwoffii",
         "0",
         "0",
         "1"
        ],
        [
         "Acinetobacter pitii",
         "0",
         "0",
         "3"
        ],
        [
         "Acinetobacter, non-speciated",
         "0",
         "0",
         "4"
        ],
        [
         "Citrobacter freundii",
         "0",
         "0",
         "1"
        ],
        [
         "Enterobacter asburiae",
         "0",
         "0",
         "2"
        ],
        [
         "Enterobacter cloacae",
         "1",
         "0",
         "19"
        ],
        [
         "Enterobacter kobei",
         "0",
         "0",
         "5"
        ],
        [
         "Escherichia coli",
         "0",
         "1",
         "25"
        ],
        [
         "Klebsiella (Enterobacter) aerogenes",
         "0",
         "0",
         "8"
        ],
        [
         "Klebsiella oxytoca",
         "0",
         "0",
         "19"
        ],
        [
         "Klebsiella pneumoniae",
         "1",
         "0",
         "35"
        ],
        [
         "Pseudomonas aeruginosa",
         "0",
         "0",
         "36"
        ],
        [
         "Serratia liquefaciens",
         "0",
         "0",
         "2"
        ],
        [
         "Serratia marcescens",
         "0",
         "0",
         "16"
        ]
       ],
       "shape": {
        "columns": 3,
        "rows": 16
       }
      },
      "text/html": [
       "<div>\n",
       "<style scoped>\n",
       "    .dataframe tbody tr th:only-of-type {\n",
       "        vertical-align: middle;\n",
       "    }\n",
       "\n",
       "    .dataframe tbody tr th {\n",
       "        vertical-align: top;\n",
       "    }\n",
       "\n",
       "    .dataframe thead th {\n",
       "        text-align: right;\n",
       "    }\n",
       "</style>\n",
       "<table border=\"1\" class=\"dataframe\">\n",
       "  <thead>\n",
       "    <tr style=\"text-align: right;\">\n",
       "      <th>Amikacin_I</th>\n",
       "      <th>Intermediate</th>\n",
       "      <th>Resistant</th>\n",
       "      <th>Susceptible</th>\n",
       "    </tr>\n",
       "    <tr>\n",
       "      <th>Species</th>\n",
       "      <th></th>\n",
       "      <th></th>\n",
       "      <th></th>\n",
       "    </tr>\n",
       "  </thead>\n",
       "  <tbody>\n",
       "    <tr>\n",
       "      <th>Acinetobacter baumannii</th>\n",
       "      <td>1</td>\n",
       "      <td>11</td>\n",
       "      <td>3</td>\n",
       "    </tr>\n",
       "    <tr>\n",
       "      <th>Acinetobacter junii</th>\n",
       "      <td>0</td>\n",
       "      <td>0</td>\n",
       "      <td>1</td>\n",
       "    </tr>\n",
       "    <tr>\n",
       "      <th>Acinetobacter lwoffii</th>\n",
       "      <td>0</td>\n",
       "      <td>0</td>\n",
       "      <td>1</td>\n",
       "    </tr>\n",
       "    <tr>\n",
       "      <th>Acinetobacter pitii</th>\n",
       "      <td>0</td>\n",
       "      <td>0</td>\n",
       "      <td>3</td>\n",
       "    </tr>\n",
       "    <tr>\n",
       "      <th>Acinetobacter, non-speciated</th>\n",
       "      <td>0</td>\n",
       "      <td>0</td>\n",
       "      <td>4</td>\n",
       "    </tr>\n",
       "    <tr>\n",
       "      <th>Citrobacter freundii</th>\n",
       "      <td>0</td>\n",
       "      <td>0</td>\n",
       "      <td>1</td>\n",
       "    </tr>\n",
       "    <tr>\n",
       "      <th>Enterobacter asburiae</th>\n",
       "      <td>0</td>\n",
       "      <td>0</td>\n",
       "      <td>2</td>\n",
       "    </tr>\n",
       "    <tr>\n",
       "      <th>Enterobacter cloacae</th>\n",
       "      <td>1</td>\n",
       "      <td>0</td>\n",
       "      <td>19</td>\n",
       "    </tr>\n",
       "    <tr>\n",
       "      <th>Enterobacter kobei</th>\n",
       "      <td>0</td>\n",
       "      <td>0</td>\n",
       "      <td>5</td>\n",
       "    </tr>\n",
       "    <tr>\n",
       "      <th>Escherichia coli</th>\n",
       "      <td>0</td>\n",
       "      <td>1</td>\n",
       "      <td>25</td>\n",
       "    </tr>\n",
       "    <tr>\n",
       "      <th>Klebsiella (Enterobacter) aerogenes</th>\n",
       "      <td>0</td>\n",
       "      <td>0</td>\n",
       "      <td>8</td>\n",
       "    </tr>\n",
       "    <tr>\n",
       "      <th>Klebsiella oxytoca</th>\n",
       "      <td>0</td>\n",
       "      <td>0</td>\n",
       "      <td>19</td>\n",
       "    </tr>\n",
       "    <tr>\n",
       "      <th>Klebsiella pneumoniae</th>\n",
       "      <td>1</td>\n",
       "      <td>0</td>\n",
       "      <td>35</td>\n",
       "    </tr>\n",
       "    <tr>\n",
       "      <th>Pseudomonas aeruginosa</th>\n",
       "      <td>0</td>\n",
       "      <td>0</td>\n",
       "      <td>36</td>\n",
       "    </tr>\n",
       "    <tr>\n",
       "      <th>Serratia liquefaciens</th>\n",
       "      <td>0</td>\n",
       "      <td>0</td>\n",
       "      <td>2</td>\n",
       "    </tr>\n",
       "    <tr>\n",
       "      <th>Serratia marcescens</th>\n",
       "      <td>0</td>\n",
       "      <td>0</td>\n",
       "      <td>16</td>\n",
       "    </tr>\n",
       "  </tbody>\n",
       "</table>\n",
       "</div>"
      ],
      "text/plain": [
       "Amikacin_I                           Intermediate  Resistant  Susceptible\n",
       "Species                                                                  \n",
       "Acinetobacter baumannii                         1         11            3\n",
       "Acinetobacter junii                             0          0            1\n",
       "Acinetobacter lwoffii                           0          0            1\n",
       "Acinetobacter pitii                             0          0            3\n",
       "Acinetobacter, non-speciated                    0          0            4\n",
       "Citrobacter freundii                            0          0            1\n",
       "Enterobacter asburiae                           0          0            2\n",
       "Enterobacter cloacae                            1          0           19\n",
       "Enterobacter kobei                              0          0            5\n",
       "Escherichia coli                                0          1           25\n",
       "Klebsiella (Enterobacter) aerogenes             0          0            8\n",
       "Klebsiella oxytoca                              0          0           19\n",
       "Klebsiella pneumoniae                           1          0           35\n",
       "Pseudomonas aeruginosa                          0          0           36\n",
       "Serratia liquefaciens                           0          0            2\n",
       "Serratia marcescens                             0          0           16"
      ]
     },
     "execution_count": 16,
     "metadata": {},
     "output_type": "execute_result"
    }
   ],
   "source": [
    "pd.crosstab(df['Species'], df['Amikacin_I'])"
   ]
  },
  {
   "cell_type": "markdown",
   "metadata": {},
   "source": [
    "## Numerical Data Analysis"
   ]
  },
  {
   "cell_type": "markdown",
   "metadata": {},
   "source": [
    "Here, the Amikacin column is actually an object type, however after reviewing the data myself, the type of the data should actually be a float type considering there are only numbers here. This column is also convenient if we treat it as a numerical type because it will allow us to make nice comparisons with the Amikacin_I column which is the conclusions made from the results of the Amikacin column. \n",
    "\n",
    "The Amikacin column contains data found from conducting MIC's(Minimum Inhibitory Concentration) tests on each sample. The values here are in micrograms/milliliter and the values describe the lowest concencentration of the antibiotic Amikacin that inhibits the growth of bacteria."
   ]
  },
  {
   "cell_type": "code",
   "execution_count": 18,
   "metadata": {},
   "outputs": [],
   "source": [
    "#Convert the values of the 'Amikacin' column to float\n",
    "df['Amikacin'] = df['Amikacin'].str.replace('<', '')\n",
    "df['Amikacin'] = df['Amikacin'].str.replace('>', '')\n",
    "df['Amikacin'] = df['Amikacin'].str.replace('=', '')\n",
    "df['Amikacin'] = df['Amikacin'].str.replace('ug/ml', '')\n",
    "df['Amikacin'] = df['Amikacin'].str.replace('MIC', '')\n",
    "df['Amikacin'] = df['Amikacin'].str.replace(' ', '')\n",
    "df['Amikacin'] = df['Amikacin'].str.replace('µg/ml', '')"
   ]
  },
  {
   "cell_type": "code",
   "execution_count": 20,
   "metadata": {},
   "outputs": [],
   "source": [
    "# Convert the 'Amikacin' column to float\n",
    "df['Amikacin'] = df['Amikacin'].astype(float)"
   ]
  },
  {
   "cell_type": "code",
   "execution_count": 21,
   "metadata": {},
   "outputs": [
    {
     "data": {
      "text/plain": [
       "count    224.000000\n",
       "mean       6.399554\n",
       "std       14.290153\n",
       "min        0.500000\n",
       "25%        2.000000\n",
       "50%        2.000000\n",
       "75%        4.000000\n",
       "max       64.000000\n",
       "Name: Amikacin, dtype: float64"
      ]
     },
     "execution_count": 21,
     "metadata": {},
     "output_type": "execute_result"
    }
   ],
   "source": [
    "df.Amikacin.describe()"
   ]
  },
  {
   "cell_type": "code",
   "execution_count": 22,
   "metadata": {},
   "outputs": [
    {
     "data": {
      "text/plain": [
       "np.float64(6.399553571428571)"
      ]
     },
     "execution_count": 22,
     "metadata": {},
     "output_type": "execute_result"
    }
   ],
   "source": [
    "df.Amikacin.mean()"
   ]
  },
  {
   "cell_type": "markdown",
   "metadata": {},
   "source": [
    "## Categorical/Numerical Comparative Analysis"
   ]
  },
  {
   "cell_type": "code",
   "execution_count": 23,
   "metadata": {},
   "outputs": [
    {
     "data": {
      "application/vnd.microsoft.datawrangler.viewer.v0+json": {
       "columns": [
        {
         "name": "Amikacin_I",
         "rawType": "object",
         "type": "string"
        },
        {
         "name": "count",
         "rawType": "float64",
         "type": "float"
        },
        {
         "name": "mean",
         "rawType": "float64",
         "type": "float"
        },
        {
         "name": "std",
         "rawType": "float64",
         "type": "float"
        },
        {
         "name": "min",
         "rawType": "float64",
         "type": "float"
        },
        {
         "name": "25%",
         "rawType": "float64",
         "type": "float"
        },
        {
         "name": "50%",
         "rawType": "float64",
         "type": "float"
        },
        {
         "name": "75%",
         "rawType": "float64",
         "type": "float"
        },
        {
         "name": "max",
         "rawType": "float64",
         "type": "float"
        }
       ],
       "conversionMethod": "pd.DataFrame",
       "ref": "0b3ce181-9fc7-4acb-a93c-47e3fd47c976",
       "rows": [
        [
         "Intermediate",
         "3.0",
         "32.0",
         "0.0",
         "32.0",
         "32.0",
         "32.0",
         "32.0",
         "32.0"
        ],
        [
         "Resistant",
         "12.0",
         "64.0",
         "0.0",
         "64.0",
         "64.0",
         "64.0",
         "64.0",
         "64.0"
        ],
        [
         "Susceptible",
         "180.0",
         "2.5833333333333335",
         "1.8335026161899577",
         "0.5",
         "2.0",
         "2.0",
         "4.0",
         "16.0"
        ]
       ],
       "shape": {
        "columns": 8,
        "rows": 3
       }
      },
      "text/html": [
       "<div>\n",
       "<style scoped>\n",
       "    .dataframe tbody tr th:only-of-type {\n",
       "        vertical-align: middle;\n",
       "    }\n",
       "\n",
       "    .dataframe tbody tr th {\n",
       "        vertical-align: top;\n",
       "    }\n",
       "\n",
       "    .dataframe thead th {\n",
       "        text-align: right;\n",
       "    }\n",
       "</style>\n",
       "<table border=\"1\" class=\"dataframe\">\n",
       "  <thead>\n",
       "    <tr style=\"text-align: right;\">\n",
       "      <th></th>\n",
       "      <th>count</th>\n",
       "      <th>mean</th>\n",
       "      <th>std</th>\n",
       "      <th>min</th>\n",
       "      <th>25%</th>\n",
       "      <th>50%</th>\n",
       "      <th>75%</th>\n",
       "      <th>max</th>\n",
       "    </tr>\n",
       "    <tr>\n",
       "      <th>Amikacin_I</th>\n",
       "      <th></th>\n",
       "      <th></th>\n",
       "      <th></th>\n",
       "      <th></th>\n",
       "      <th></th>\n",
       "      <th></th>\n",
       "      <th></th>\n",
       "      <th></th>\n",
       "    </tr>\n",
       "  </thead>\n",
       "  <tbody>\n",
       "    <tr>\n",
       "      <th>Intermediate</th>\n",
       "      <td>3.0</td>\n",
       "      <td>32.000000</td>\n",
       "      <td>0.000000</td>\n",
       "      <td>32.0</td>\n",
       "      <td>32.0</td>\n",
       "      <td>32.0</td>\n",
       "      <td>32.0</td>\n",
       "      <td>32.0</td>\n",
       "    </tr>\n",
       "    <tr>\n",
       "      <th>Resistant</th>\n",
       "      <td>12.0</td>\n",
       "      <td>64.000000</td>\n",
       "      <td>0.000000</td>\n",
       "      <td>64.0</td>\n",
       "      <td>64.0</td>\n",
       "      <td>64.0</td>\n",
       "      <td>64.0</td>\n",
       "      <td>64.0</td>\n",
       "    </tr>\n",
       "    <tr>\n",
       "      <th>Susceptible</th>\n",
       "      <td>180.0</td>\n",
       "      <td>2.583333</td>\n",
       "      <td>1.833503</td>\n",
       "      <td>0.5</td>\n",
       "      <td>2.0</td>\n",
       "      <td>2.0</td>\n",
       "      <td>4.0</td>\n",
       "      <td>16.0</td>\n",
       "    </tr>\n",
       "  </tbody>\n",
       "</table>\n",
       "</div>"
      ],
      "text/plain": [
       "              count       mean       std   min   25%   50%   75%   max\n",
       "Amikacin_I                                                            \n",
       "Intermediate    3.0  32.000000  0.000000  32.0  32.0  32.0  32.0  32.0\n",
       "Resistant      12.0  64.000000  0.000000  64.0  64.0  64.0  64.0  64.0\n",
       "Susceptible   180.0   2.583333  1.833503   0.5   2.0   2.0   4.0  16.0"
      ]
     },
     "execution_count": 23,
     "metadata": {},
     "output_type": "execute_result"
    }
   ],
   "source": [
    "# Describe the summary statists of the 'Amikacin' column for each 'Amakacun_I' value\n",
    "df.groupby('Amikacin_I')['Amikacin'].describe()"
   ]
  },
  {
   "cell_type": "code",
   "execution_count": 24,
   "metadata": {},
   "outputs": [
    {
     "data": {
      "application/vnd.microsoft.datawrangler.viewer.v0+json": {
       "columns": [
        {
         "name": "Species",
         "rawType": "object",
         "type": "string"
        },
        {
         "name": "count",
         "rawType": "float64",
         "type": "float"
        },
        {
         "name": "mean",
         "rawType": "float64",
         "type": "float"
        },
        {
         "name": "std",
         "rawType": "float64",
         "type": "float"
        },
        {
         "name": "min",
         "rawType": "float64",
         "type": "float"
        },
        {
         "name": "25%",
         "rawType": "float64",
         "type": "float"
        },
        {
         "name": "50%",
         "rawType": "float64",
         "type": "float"
        },
        {
         "name": "75%",
         "rawType": "float64",
         "type": "float"
        },
        {
         "name": "max",
         "rawType": "float64",
         "type": "float"
        }
       ],
       "conversionMethod": "pd.DataFrame",
       "ref": "4d22570c-da8f-41d4-84c7-96d526333ee3",
       "rows": [
        [
         "Acinetobacter baumannii",
         "15.0",
         "49.63333333333333",
         "25.579335037337877",
         "0.5",
         "48.0",
         "64.0",
         "64.0",
         "64.0"
        ],
        [
         "Acinetobacter junii",
         "1.0",
         "2.0",
         null,
         "2.0",
         "2.0",
         "2.0",
         "2.0",
         "2.0"
        ],
        [
         "Acinetobacter lwoffii",
         "1.0",
         "0.5",
         null,
         "0.5",
         "0.5",
         "0.5",
         "0.5",
         "0.5"
        ],
        [
         "Acinetobacter pitii",
         "3.0",
         "6.666666666666667",
         "8.082903768654761",
         "2.0",
         "2.0",
         "2.0",
         "9.0",
         "16.0"
        ],
        [
         "Acinetobacter, non-speciated",
         "4.0",
         "1.75",
         "0.5",
         "1.0",
         "1.75",
         "2.0",
         "2.0",
         "2.0"
        ],
        [
         "Citrobacter freundii",
         "1.0",
         "2.0",
         null,
         "2.0",
         "2.0",
         "2.0",
         "2.0",
         "2.0"
        ],
        [
         "Enterobacter asburiae",
         "2.0",
         "2.0",
         "0.0",
         "2.0",
         "2.0",
         "2.0",
         "2.0",
         "2.0"
        ],
        [
         "Enterobacter cloacae",
         "20.0",
         "3.75",
         "6.812334015360822",
         "1.0",
         "2.0",
         "2.0",
         "2.0",
         "32.0"
        ],
        [
         "Enterobacter kobei",
         "5.0",
         "2.0",
         "0.0",
         "2.0",
         "2.0",
         "2.0",
         "2.0",
         "2.0"
        ],
        [
         "Enterococcus faecalis",
         "0.0",
         null,
         null,
         null,
         null,
         null,
         null,
         null
        ],
        [
         "Enterococcus faecium",
         "0.0",
         null,
         null,
         null,
         null,
         null,
         null,
         null
        ],
        [
         "Escherichia coli",
         "26.0",
         "4.846153846153846",
         "12.105180073645522",
         "1.0",
         "2.0",
         "2.0",
         "4.0",
         "64.0"
        ],
        [
         "Haemophilus influenzae",
         "29.0",
         "3.603448275862069",
         "3.3203359079876127",
         "0.5",
         "2.0",
         "2.0",
         "4.0",
         "16.0"
        ],
        [
         "Klebsiella (Enterobacter) aerogenes",
         "8.0",
         "1.875",
         "1.093813773650968",
         "0.5",
         "1.625",
         "2.0",
         "2.0",
         "4.0"
        ],
        [
         "Klebsiella oxytoca",
         "19.0",
         "2.263157894736842",
         "1.7269789055894331",
         "1.0",
         "1.0",
         "2.0",
         "2.0",
         "8.0"
        ],
        [
         "Klebsiella pneumoniae",
         "36.0",
         "2.763888888888889",
         "5.1720210350791875",
         "0.5",
         "1.0",
         "2.0",
         "2.0",
         "32.0"
        ],
        [
         "Pseudomonas aeruginosa",
         "36.0",
         "4.0",
         "1.65615734242165",
         "2.0",
         "4.0",
         "4.0",
         "4.0",
         "8.0"
        ],
        [
         "Serratia liquefaciens",
         "2.0",
         "1.25",
         "1.0606601717798212",
         "0.5",
         "0.875",
         "1.25",
         "1.625",
         "2.0"
        ],
        [
         "Serratia marcescens",
         "16.0",
         "2.125",
         "1.0723805294763609",
         "0.5",
         "2.0",
         "2.0",
         "2.0",
         "4.0"
        ],
        [
         "Staphylococcus aureus",
         "0.0",
         null,
         null,
         null,
         null,
         null,
         null,
         null
        ],
        [
         "Streptococcus agalactiae",
         "0.0",
         null,
         null,
         null,
         null,
         null,
         null,
         null
        ],
        [
         "Streptococcus pneumoniae",
         "0.0",
         null,
         null,
         null,
         null,
         null,
         null,
         null
        ]
       ],
       "shape": {
        "columns": 8,
        "rows": 22
       }
      },
      "text/html": [
       "<div>\n",
       "<style scoped>\n",
       "    .dataframe tbody tr th:only-of-type {\n",
       "        vertical-align: middle;\n",
       "    }\n",
       "\n",
       "    .dataframe tbody tr th {\n",
       "        vertical-align: top;\n",
       "    }\n",
       "\n",
       "    .dataframe thead th {\n",
       "        text-align: right;\n",
       "    }\n",
       "</style>\n",
       "<table border=\"1\" class=\"dataframe\">\n",
       "  <thead>\n",
       "    <tr style=\"text-align: right;\">\n",
       "      <th></th>\n",
       "      <th>count</th>\n",
       "      <th>mean</th>\n",
       "      <th>std</th>\n",
       "      <th>min</th>\n",
       "      <th>25%</th>\n",
       "      <th>50%</th>\n",
       "      <th>75%</th>\n",
       "      <th>max</th>\n",
       "    </tr>\n",
       "    <tr>\n",
       "      <th>Species</th>\n",
       "      <th></th>\n",
       "      <th></th>\n",
       "      <th></th>\n",
       "      <th></th>\n",
       "      <th></th>\n",
       "      <th></th>\n",
       "      <th></th>\n",
       "      <th></th>\n",
       "    </tr>\n",
       "  </thead>\n",
       "  <tbody>\n",
       "    <tr>\n",
       "      <th>Acinetobacter baumannii</th>\n",
       "      <td>15.0</td>\n",
       "      <td>49.633333</td>\n",
       "      <td>25.579335</td>\n",
       "      <td>0.5</td>\n",
       "      <td>48.000</td>\n",
       "      <td>64.00</td>\n",
       "      <td>64.000</td>\n",
       "      <td>64.0</td>\n",
       "    </tr>\n",
       "    <tr>\n",
       "      <th>Acinetobacter junii</th>\n",
       "      <td>1.0</td>\n",
       "      <td>2.000000</td>\n",
       "      <td>NaN</td>\n",
       "      <td>2.0</td>\n",
       "      <td>2.000</td>\n",
       "      <td>2.00</td>\n",
       "      <td>2.000</td>\n",
       "      <td>2.0</td>\n",
       "    </tr>\n",
       "    <tr>\n",
       "      <th>Acinetobacter lwoffii</th>\n",
       "      <td>1.0</td>\n",
       "      <td>0.500000</td>\n",
       "      <td>NaN</td>\n",
       "      <td>0.5</td>\n",
       "      <td>0.500</td>\n",
       "      <td>0.50</td>\n",
       "      <td>0.500</td>\n",
       "      <td>0.5</td>\n",
       "    </tr>\n",
       "    <tr>\n",
       "      <th>Acinetobacter pitii</th>\n",
       "      <td>3.0</td>\n",
       "      <td>6.666667</td>\n",
       "      <td>8.082904</td>\n",
       "      <td>2.0</td>\n",
       "      <td>2.000</td>\n",
       "      <td>2.00</td>\n",
       "      <td>9.000</td>\n",
       "      <td>16.0</td>\n",
       "    </tr>\n",
       "    <tr>\n",
       "      <th>Acinetobacter, non-speciated</th>\n",
       "      <td>4.0</td>\n",
       "      <td>1.750000</td>\n",
       "      <td>0.500000</td>\n",
       "      <td>1.0</td>\n",
       "      <td>1.750</td>\n",
       "      <td>2.00</td>\n",
       "      <td>2.000</td>\n",
       "      <td>2.0</td>\n",
       "    </tr>\n",
       "    <tr>\n",
       "      <th>Citrobacter freundii</th>\n",
       "      <td>1.0</td>\n",
       "      <td>2.000000</td>\n",
       "      <td>NaN</td>\n",
       "      <td>2.0</td>\n",
       "      <td>2.000</td>\n",
       "      <td>2.00</td>\n",
       "      <td>2.000</td>\n",
       "      <td>2.0</td>\n",
       "    </tr>\n",
       "    <tr>\n",
       "      <th>Enterobacter asburiae</th>\n",
       "      <td>2.0</td>\n",
       "      <td>2.000000</td>\n",
       "      <td>0.000000</td>\n",
       "      <td>2.0</td>\n",
       "      <td>2.000</td>\n",
       "      <td>2.00</td>\n",
       "      <td>2.000</td>\n",
       "      <td>2.0</td>\n",
       "    </tr>\n",
       "    <tr>\n",
       "      <th>Enterobacter cloacae</th>\n",
       "      <td>20.0</td>\n",
       "      <td>3.750000</td>\n",
       "      <td>6.812334</td>\n",
       "      <td>1.0</td>\n",
       "      <td>2.000</td>\n",
       "      <td>2.00</td>\n",
       "      <td>2.000</td>\n",
       "      <td>32.0</td>\n",
       "    </tr>\n",
       "    <tr>\n",
       "      <th>Enterobacter kobei</th>\n",
       "      <td>5.0</td>\n",
       "      <td>2.000000</td>\n",
       "      <td>0.000000</td>\n",
       "      <td>2.0</td>\n",
       "      <td>2.000</td>\n",
       "      <td>2.00</td>\n",
       "      <td>2.000</td>\n",
       "      <td>2.0</td>\n",
       "    </tr>\n",
       "    <tr>\n",
       "      <th>Enterococcus faecalis</th>\n",
       "      <td>0.0</td>\n",
       "      <td>NaN</td>\n",
       "      <td>NaN</td>\n",
       "      <td>NaN</td>\n",
       "      <td>NaN</td>\n",
       "      <td>NaN</td>\n",
       "      <td>NaN</td>\n",
       "      <td>NaN</td>\n",
       "    </tr>\n",
       "    <tr>\n",
       "      <th>Enterococcus faecium</th>\n",
       "      <td>0.0</td>\n",
       "      <td>NaN</td>\n",
       "      <td>NaN</td>\n",
       "      <td>NaN</td>\n",
       "      <td>NaN</td>\n",
       "      <td>NaN</td>\n",
       "      <td>NaN</td>\n",
       "      <td>NaN</td>\n",
       "    </tr>\n",
       "    <tr>\n",
       "      <th>Escherichia coli</th>\n",
       "      <td>26.0</td>\n",
       "      <td>4.846154</td>\n",
       "      <td>12.105180</td>\n",
       "      <td>1.0</td>\n",
       "      <td>2.000</td>\n",
       "      <td>2.00</td>\n",
       "      <td>4.000</td>\n",
       "      <td>64.0</td>\n",
       "    </tr>\n",
       "    <tr>\n",
       "      <th>Haemophilus influenzae</th>\n",
       "      <td>29.0</td>\n",
       "      <td>3.603448</td>\n",
       "      <td>3.320336</td>\n",
       "      <td>0.5</td>\n",
       "      <td>2.000</td>\n",
       "      <td>2.00</td>\n",
       "      <td>4.000</td>\n",
       "      <td>16.0</td>\n",
       "    </tr>\n",
       "    <tr>\n",
       "      <th>Klebsiella (Enterobacter) aerogenes</th>\n",
       "      <td>8.0</td>\n",
       "      <td>1.875000</td>\n",
       "      <td>1.093814</td>\n",
       "      <td>0.5</td>\n",
       "      <td>1.625</td>\n",
       "      <td>2.00</td>\n",
       "      <td>2.000</td>\n",
       "      <td>4.0</td>\n",
       "    </tr>\n",
       "    <tr>\n",
       "      <th>Klebsiella oxytoca</th>\n",
       "      <td>19.0</td>\n",
       "      <td>2.263158</td>\n",
       "      <td>1.726979</td>\n",
       "      <td>1.0</td>\n",
       "      <td>1.000</td>\n",
       "      <td>2.00</td>\n",
       "      <td>2.000</td>\n",
       "      <td>8.0</td>\n",
       "    </tr>\n",
       "    <tr>\n",
       "      <th>Klebsiella pneumoniae</th>\n",
       "      <td>36.0</td>\n",
       "      <td>2.763889</td>\n",
       "      <td>5.172021</td>\n",
       "      <td>0.5</td>\n",
       "      <td>1.000</td>\n",
       "      <td>2.00</td>\n",
       "      <td>2.000</td>\n",
       "      <td>32.0</td>\n",
       "    </tr>\n",
       "    <tr>\n",
       "      <th>Pseudomonas aeruginosa</th>\n",
       "      <td>36.0</td>\n",
       "      <td>4.000000</td>\n",
       "      <td>1.656157</td>\n",
       "      <td>2.0</td>\n",
       "      <td>4.000</td>\n",
       "      <td>4.00</td>\n",
       "      <td>4.000</td>\n",
       "      <td>8.0</td>\n",
       "    </tr>\n",
       "    <tr>\n",
       "      <th>Serratia liquefaciens</th>\n",
       "      <td>2.0</td>\n",
       "      <td>1.250000</td>\n",
       "      <td>1.060660</td>\n",
       "      <td>0.5</td>\n",
       "      <td>0.875</td>\n",
       "      <td>1.25</td>\n",
       "      <td>1.625</td>\n",
       "      <td>2.0</td>\n",
       "    </tr>\n",
       "    <tr>\n",
       "      <th>Serratia marcescens</th>\n",
       "      <td>16.0</td>\n",
       "      <td>2.125000</td>\n",
       "      <td>1.072381</td>\n",
       "      <td>0.5</td>\n",
       "      <td>2.000</td>\n",
       "      <td>2.00</td>\n",
       "      <td>2.000</td>\n",
       "      <td>4.0</td>\n",
       "    </tr>\n",
       "    <tr>\n",
       "      <th>Staphylococcus aureus</th>\n",
       "      <td>0.0</td>\n",
       "      <td>NaN</td>\n",
       "      <td>NaN</td>\n",
       "      <td>NaN</td>\n",
       "      <td>NaN</td>\n",
       "      <td>NaN</td>\n",
       "      <td>NaN</td>\n",
       "      <td>NaN</td>\n",
       "    </tr>\n",
       "    <tr>\n",
       "      <th>Streptococcus agalactiae</th>\n",
       "      <td>0.0</td>\n",
       "      <td>NaN</td>\n",
       "      <td>NaN</td>\n",
       "      <td>NaN</td>\n",
       "      <td>NaN</td>\n",
       "      <td>NaN</td>\n",
       "      <td>NaN</td>\n",
       "      <td>NaN</td>\n",
       "    </tr>\n",
       "    <tr>\n",
       "      <th>Streptococcus pneumoniae</th>\n",
       "      <td>0.0</td>\n",
       "      <td>NaN</td>\n",
       "      <td>NaN</td>\n",
       "      <td>NaN</td>\n",
       "      <td>NaN</td>\n",
       "      <td>NaN</td>\n",
       "      <td>NaN</td>\n",
       "      <td>NaN</td>\n",
       "    </tr>\n",
       "  </tbody>\n",
       "</table>\n",
       "</div>"
      ],
      "text/plain": [
       "                                     count       mean        std  min     25%  \\\n",
       "Species                                                                         \n",
       "Acinetobacter baumannii               15.0  49.633333  25.579335  0.5  48.000   \n",
       "Acinetobacter junii                    1.0   2.000000        NaN  2.0   2.000   \n",
       "Acinetobacter lwoffii                  1.0   0.500000        NaN  0.5   0.500   \n",
       "Acinetobacter pitii                    3.0   6.666667   8.082904  2.0   2.000   \n",
       "Acinetobacter, non-speciated           4.0   1.750000   0.500000  1.0   1.750   \n",
       "Citrobacter freundii                   1.0   2.000000        NaN  2.0   2.000   \n",
       "Enterobacter asburiae                  2.0   2.000000   0.000000  2.0   2.000   \n",
       "Enterobacter cloacae                  20.0   3.750000   6.812334  1.0   2.000   \n",
       "Enterobacter kobei                     5.0   2.000000   0.000000  2.0   2.000   \n",
       "Enterococcus faecalis                  0.0        NaN        NaN  NaN     NaN   \n",
       "Enterococcus faecium                   0.0        NaN        NaN  NaN     NaN   \n",
       "Escherichia coli                      26.0   4.846154  12.105180  1.0   2.000   \n",
       "Haemophilus influenzae                29.0   3.603448   3.320336  0.5   2.000   \n",
       "Klebsiella (Enterobacter) aerogenes    8.0   1.875000   1.093814  0.5   1.625   \n",
       "Klebsiella oxytoca                    19.0   2.263158   1.726979  1.0   1.000   \n",
       "Klebsiella pneumoniae                 36.0   2.763889   5.172021  0.5   1.000   \n",
       "Pseudomonas aeruginosa                36.0   4.000000   1.656157  2.0   4.000   \n",
       "Serratia liquefaciens                  2.0   1.250000   1.060660  0.5   0.875   \n",
       "Serratia marcescens                   16.0   2.125000   1.072381  0.5   2.000   \n",
       "Staphylococcus aureus                  0.0        NaN        NaN  NaN     NaN   \n",
       "Streptococcus agalactiae               0.0        NaN        NaN  NaN     NaN   \n",
       "Streptococcus pneumoniae               0.0        NaN        NaN  NaN     NaN   \n",
       "\n",
       "                                       50%     75%   max  \n",
       "Species                                                   \n",
       "Acinetobacter baumannii              64.00  64.000  64.0  \n",
       "Acinetobacter junii                   2.00   2.000   2.0  \n",
       "Acinetobacter lwoffii                 0.50   0.500   0.5  \n",
       "Acinetobacter pitii                   2.00   9.000  16.0  \n",
       "Acinetobacter, non-speciated          2.00   2.000   2.0  \n",
       "Citrobacter freundii                  2.00   2.000   2.0  \n",
       "Enterobacter asburiae                 2.00   2.000   2.0  \n",
       "Enterobacter cloacae                  2.00   2.000  32.0  \n",
       "Enterobacter kobei                    2.00   2.000   2.0  \n",
       "Enterococcus faecalis                  NaN     NaN   NaN  \n",
       "Enterococcus faecium                   NaN     NaN   NaN  \n",
       "Escherichia coli                      2.00   4.000  64.0  \n",
       "Haemophilus influenzae                2.00   4.000  16.0  \n",
       "Klebsiella (Enterobacter) aerogenes   2.00   2.000   4.0  \n",
       "Klebsiella oxytoca                    2.00   2.000   8.0  \n",
       "Klebsiella pneumoniae                 2.00   2.000  32.0  \n",
       "Pseudomonas aeruginosa                4.00   4.000   8.0  \n",
       "Serratia liquefaciens                 1.25   1.625   2.0  \n",
       "Serratia marcescens                   2.00   2.000   4.0  \n",
       "Staphylococcus aureus                  NaN     NaN   NaN  \n",
       "Streptococcus agalactiae               NaN     NaN   NaN  \n",
       "Streptococcus pneumoniae               NaN     NaN   NaN  "
      ]
     },
     "execution_count": 24,
     "metadata": {},
     "output_type": "execute_result"
    }
   ],
   "source": [
    "# describe the summary statistics of the 'Amikacin' column for each 'Species' value\n",
    "df.groupby('Species')['Amikacin'].describe()"
   ]
  },
  {
   "cell_type": "markdown",
   "metadata": {},
   "source": [
    "## Numerical/Numerical Data Analysis"
   ]
  },
  {
   "cell_type": "code",
   "execution_count": 27,
   "metadata": {},
   "outputs": [],
   "source": [
    "#make the 'Ampicillin' column to be float\n",
    "df['Ampicillin'] = df['Ampicillin'].str.replace('<', '')\n",
    "df['Ampicillin'] = df['Ampicillin'].str.replace('>', '')\n",
    "df['Ampicillin'] = df['Ampicillin'].str.replace('=', '')\n",
    "df['Ampicillin'] = df['Ampicillin'].str.replace('ug/ml', '')\n",
    "df['Ampicillin'] = df['Ampicillin'].str.replace('MIC', '')\n",
    "df['Ampicillin'] = df['Ampicillin'].str.replace(' ', '')\n",
    "df['Ampicillin'] = df['Ampicillin'].str.replace('µg/ml', '')\n",
    "df['Ampicillin'] = df['Ampicillin'].astype(float)"
   ]
  },
  {
   "cell_type": "code",
   "execution_count": 28,
   "metadata": {},
   "outputs": [
    {
     "data": {
      "text/plain": [
       "np.float64(0.09268581755123168)"
      ]
     },
     "execution_count": 28,
     "metadata": {},
     "output_type": "execute_result"
    }
   ],
   "source": [
    "# Calculate the correlation between the 'Amikacin' and 'Ampicillin' columns\n",
    "df['Amikacin'].corr(df['Ampicillin'])"
   ]
  }
 ],
 "metadata": {
  "kernelspec": {
   "display_name": ".venv",
   "language": "python",
   "name": "python3"
  },
  "language_info": {
   "codemirror_mode": {
    "name": "ipython",
    "version": 3
   },
   "file_extension": ".py",
   "mimetype": "text/x-python",
   "name": "python",
   "nbconvert_exporter": "python",
   "pygments_lexer": "ipython3",
   "version": "3.13.2"
  }
 },
 "nbformat": 4,
 "nbformat_minor": 2
}
